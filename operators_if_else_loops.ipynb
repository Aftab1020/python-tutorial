{
  "nbformat": 4,
  "nbformat_minor": 0,
  "metadata": {
    "colab": {
      "provenance": []
    },
    "kernelspec": {
      "name": "python3",
      "display_name": "Python 3"
    },
    "language_info": {
      "name": "python"
    }
  },
  "cells": [
    {
      "cell_type": "markdown",
      "source": [
        "# Operators in Python\n",
        "\n",
        "- Arithmetic Operators\n",
        "- Relational Operators\n",
        "- Logical Operators\n",
        "- Bitwise Operators\n",
        "- Assignment Operators\n",
        "- Membership Operators"
      ],
      "metadata": {
        "id": "y1HMD4oI7FL7"
      }
    },
    {
      "cell_type": "code",
      "source": [
        "# Arithmetric Operators\n",
        "\n",
        "print('Addition', 5+6)\n",
        "\n",
        "print('subtraaction', 5-6)\n",
        "\n",
        "print('Multiplication', 5*6)\n",
        "\n",
        "print('Division', 5/2)\n",
        "\n",
        "print(5//2) # IT convert normal division to integer\n",
        "\n",
        "print('It tells remainder',5%2) #Moduls\n",
        "\n",
        "print('Power', 5**2) # It gives you power of"
      ],
      "metadata": {
        "id": "a7cegk-f7U4-",
        "colab": {
          "base_uri": "https://localhost:8080/"
        },
        "outputId": "dc74b212-9abd-42e6-e601-8deacd7d4ac7"
      },
      "execution_count": 48,
      "outputs": [
        {
          "output_type": "stream",
          "name": "stdout",
          "text": [
            "Addition 11\n",
            "subtraaction -1\n",
            "Multiplication 30\n",
            "Division 2.5\n",
            "2\n",
            "It tells remainder 1\n",
            "Power 25\n"
          ]
        }
      ]
    },
    {
      "cell_type": "code",
      "source": [
        "# Relational Operators\n",
        "print(4>5) # greater > smaller\n",
        "\n",
        "print(4<5) # smaller < greater\n",
        "\n",
        "print(4>=4) # greater than equal to\n",
        "\n",
        "print(4<=4) # smaller than equal  to\n",
        "\n",
        "print(4==4) # Equal to equal to\n",
        "\n",
        "print(4!=4) # Not Equal to"
      ],
      "metadata": {
        "id": "TMIQKhFd7Y5A",
        "colab": {
          "base_uri": "https://localhost:8080/"
        },
        "outputId": "676d5447-75d3-452d-9c89-ff7fa3b2d0c5"
      },
      "execution_count": 49,
      "outputs": [
        {
          "output_type": "stream",
          "name": "stdout",
          "text": [
            "False\n",
            "True\n",
            "True\n",
            "True\n",
            "True\n",
            "False\n"
          ]
        }
      ]
    },
    {
      "cell_type": "code",
      "source": [
        "# Logical Operators\n",
        "print(1 and 0) #It gives True when both are True\n",
        "\n",
        "print(1 or 0) # it give True when one of the condition true\n",
        "\n",
        "print(not 1) # It gives opposite answer"
      ],
      "metadata": {
        "id": "vyxdjDbc7avq",
        "colab": {
          "base_uri": "https://localhost:8080/"
        },
        "outputId": "aa20dc43-3170-480d-8a33-cf62ae0a65c1"
      },
      "execution_count": 50,
      "outputs": [
        {
          "output_type": "stream",
          "name": "stdout",
          "text": [
            "0\n",
            "1\n",
            "False\n"
          ]
        }
      ]
    },
    {
      "cell_type": "code",
      "source": [
        "# Bitwise Operators\n",
        "\n",
        "# bitwise and operator\n",
        "print(2 & 3)\n",
        "\n",
        "# bitwise or operator\n",
        "print(2 | 3)\n",
        "\n",
        "# bitwise xor\n",
        "print(2 ^ 3)\n",
        "\n",
        "# bitwise not operator\n",
        "print(~3)\n",
        "\n",
        "# bitwise left operator\n",
        "print(4 >> 2)\n",
        "\n",
        "# bitwise right opearator\n",
        "print(5 << 2)"
      ],
      "metadata": {
        "id": "H4KzpSke7d9l",
        "colab": {
          "base_uri": "https://localhost:8080/"
        },
        "outputId": "9a12ca2d-28a2-47ba-f118-eb50f9d78711"
      },
      "execution_count": 51,
      "outputs": [
        {
          "output_type": "stream",
          "name": "stdout",
          "text": [
            "2\n",
            "3\n",
            "1\n",
            "-4\n",
            "1\n",
            "20\n"
          ]
        }
      ]
    },
    {
      "cell_type": "code",
      "source": [
        "# Assignment Operators\n",
        "\n",
        "#addition\n",
        "a = 3\n",
        "a = a + 3\n",
        "print(a)\n",
        "\n",
        "#subtraction\n",
        "b = 2\n",
        "b = b - 1\n",
        "print(b)\n",
        "\n",
        "#multilpication\n",
        "c = 4\n",
        "c = c * 2\n",
        "print(c)\n",
        "\n",
        "#division\n",
        "d = 4\n",
        "d = d/2\n",
        "print(d)\n"
      ],
      "metadata": {
        "id": "8EEm8eHO7gD_",
        "colab": {
          "base_uri": "https://localhost:8080/"
        },
        "outputId": "545442c1-e3af-49f2-a5ff-eb5d72c0cab0"
      },
      "execution_count": 52,
      "outputs": [
        {
          "output_type": "stream",
          "name": "stdout",
          "text": [
            "6\n",
            "1\n",
            "8\n",
            "2.0\n"
          ]
        }
      ]
    },
    {
      "cell_type": "code",
      "source": [
        "# Membership Operators\n",
        "\n",
        "# in/not in\n",
        "\n",
        "print('D'  in 'Delhi')\n",
        "print('M' not in 'Mumbai')\n",
        "print('Mahad' in ['Delhi','Agra','Pune','Goa','Mahad'])\n",
        "print(1 not in [2,3,4,5,6])\n",
        "print(2.4 in [1,5,3,7,8,2])"
      ],
      "metadata": {
        "id": "LzrIz7I87h-W",
        "colab": {
          "base_uri": "https://localhost:8080/"
        },
        "outputId": "cc896039-7ccb-4d20-e6c5-b0857268d798"
      },
      "execution_count": 53,
      "outputs": [
        {
          "output_type": "stream",
          "name": "stdout",
          "text": [
            "True\n",
            "False\n",
            "True\n",
            "True\n",
            "False\n"
          ]
        }
      ]
    },
    {
      "cell_type": "code",
      "source": [
        "# Program - Find the sum of a 3 digit number entered by the user\n",
        "\n",
        "number = int(input('Enter a 3 digit number'))\n",
        "# 789%10 ->9\n",
        "a = number%10\n",
        "number = number//10\n",
        "\n",
        "#78%10 -> 8\n",
        "b = number%10\n",
        "number = number//10\n",
        "\n",
        "#7%10 -> 7\n",
        "c = number%10\n",
        "number = number//10\n",
        "\n",
        "print(a + b + c)"
      ],
      "metadata": {
        "id": "C-LoVrYGDEuB",
        "colab": {
          "base_uri": "https://localhost:8080/"
        },
        "outputId": "2ded9246-00f2-4ee0-b51a-b38b57be16d6"
      },
      "execution_count": 54,
      "outputs": [
        {
          "output_type": "stream",
          "name": "stdout",
          "text": [
            "Enter a 3 digit number789\n",
            "24\n"
          ]
        }
      ]
    },
    {
      "cell_type": "markdown",
      "source": [
        "# If-else in Python"
      ],
      "metadata": {
        "id": "Iq7CzVFs7mWT"
      }
    },
    {
      "cell_type": "code",
      "source": [
        "# login program and indentation\n",
        "# email -> aftab23@gmail.com\n",
        "# password -> 1234\n",
        "\n",
        "email = input('Enter email: ')\n",
        "password = input('Enter the password: ')\n",
        "\n",
        "if email == 'aftab23@gmail.com' and password == '1234':\n",
        "  print('Welcome')\n",
        "\n",
        "elif email != 'aftab23@gmail.com' and password == '1234':\n",
        "  print('email is wrong')\n",
        "  email = input('Enter email again: ')\n",
        "  if email == 'aftab23@gmail.com':\n",
        "    print('Email is correct')\n",
        "  else:\n",
        "    print('You have to remember the email')\n",
        "\n",
        "elif email == 'aftab23@gmail.com' and password != '1234':\n",
        "  print('Password is wrong')\n",
        "  password = input('Enter password again')\n",
        "  if password == '1234':\n",
        "    print('password is correct')\n",
        "  else:\n",
        "    print('You have to remember the password')\n",
        "\n",
        "else:\n",
        "  print('Not correct')"
      ],
      "metadata": {
        "id": "dGz-83pN7oxe",
        "colab": {
          "base_uri": "https://localhost:8080/"
        },
        "outputId": "46c05fc2-8e9a-4f5c-aeaf-0be1e1462409"
      },
      "execution_count": 55,
      "outputs": [
        {
          "output_type": "stream",
          "name": "stdout",
          "text": [
            "Enter email: aftab23@gmail.com\n",
            "Enter the password: 1234\n",
            "Welcome\n"
          ]
        }
      ]
    },
    {
      "cell_type": "code",
      "source": [
        "# if-else examples\n",
        "# 1. Find the min of 3 given numbers\n",
        "# 2. Menu Driven Program"
      ],
      "metadata": {
        "id": "qo_1tY2ABlAX"
      },
      "execution_count": 56,
      "outputs": []
    },
    {
      "cell_type": "code",
      "source": [
        "# min of 3 number\n",
        "\n",
        "a = int(input('Enter the number: '))\n",
        "b = int(input('Enter the number: '))\n",
        "c = int(input('Enter the number: '))\n",
        "\n",
        "if a < b  and a < c:\n",
        "  print('smallest number is', {a})\n",
        "elif b < c:\n",
        "  print('smallest number is', {b})\n",
        "else:\n",
        "  print('smallest is' ,{c})"
      ],
      "metadata": {
        "colab": {
          "base_uri": "https://localhost:8080/"
        },
        "id": "gQpTJbMH3W6_",
        "outputId": "d0e80ea4-b474-46ab-c7ff-687165576740"
      },
      "execution_count": 57,
      "outputs": [
        {
          "output_type": "stream",
          "name": "stdout",
          "text": [
            "Enter the number: 45\n",
            "Enter the number: 67\n",
            "Enter the number: 98\n",
            "smallest number is {45}\n"
          ]
        }
      ]
    },
    {
      "cell_type": "code",
      "source": [
        "from pathlib import PureWindowsPath\n",
        "# menu driven calculator\n",
        "fnum = int(input('Enter the number: '))\n",
        "snum = int(input('Enter the number: '))\n",
        "\n",
        "operation = input('Enter the operation: ')\n",
        "\n",
        "if operation == '+':\n",
        "  print(fnum + snum)\n",
        "elif operation == '-':\n",
        "  print(fnum - snum)\n",
        "elif operation == '*':\n",
        "  print(fnum * snum)\n",
        "elif operation == '/':\n",
        "  print(fnum / snum)\n",
        "else:\n",
        "  print('Nothing')"
      ],
      "metadata": {
        "colab": {
          "base_uri": "https://localhost:8080/"
        },
        "id": "hgNqlC5C4jqF",
        "outputId": "daefe659-0f23-47ba-c33d-942b7ff4f2c8"
      },
      "execution_count": 58,
      "outputs": [
        {
          "output_type": "stream",
          "name": "stdout",
          "text": [
            "Enter the number: 45\n",
            "Enter the number: 89\n",
            "Enter the operation: *\n",
            "4005\n"
          ]
        }
      ]
    },
    {
      "cell_type": "code",
      "source": [
        "#  Atm menu\n",
        "\n",
        "menu = input(\"\"\"\n",
        "Hi, How can I help you.\n",
        "1. Enter 1 for type your pin\n",
        "2. Enter 2 for withdrawl\n",
        "3. Enter 3 for balance check\n",
        "4. Enter 4 for change pin\n",
        "\"\"\")\n",
        "\n",
        "if menu == '1':\n",
        "  print('Type your pin')\n",
        "elif menu == '2':\n",
        "  print('Withdraw your money')\n",
        "elif menu == '3':\n",
        "  print('Check your balance')\n",
        "elif menu == '4':\n",
        "  print('change your pin')\n",
        "else:\n",
        "  print('Exit')"
      ],
      "metadata": {
        "colab": {
          "base_uri": "https://localhost:8080/"
        },
        "id": "bJO0Awd4DKI5",
        "outputId": "37a90321-6685-4141-fa01-5b98323dc232"
      },
      "execution_count": 59,
      "outputs": [
        {
          "output_type": "stream",
          "name": "stdout",
          "text": [
            "\n",
            "Hi, How can I help you.\n",
            "1. Enter 1 for type your pin\n",
            "2. Enter 2 for withdrawl\n",
            "3. Enter 3 for balance check\n",
            "4. Enter 4 for change pin\n",
            "3\n",
            "Check your balance\n"
          ]
        }
      ]
    },
    {
      "cell_type": "markdown",
      "source": [
        "# Modules in Python\n",
        "\n",
        "- math\n",
        "- keywords\n",
        "- random\n",
        "- datetime"
      ],
      "metadata": {
        "id": "532_6mva8A6C"
      }
    },
    {
      "cell_type": "code",
      "source": [
        "# math\n",
        "import math\n",
        "\n",
        "print(math.sqrt(196)) # to get square root\n",
        "print(math.factorial(5)) # to get factorail\n",
        "print(math.floor(6.7))"
      ],
      "metadata": {
        "id": "x5VXt7wv8G4o",
        "colab": {
          "base_uri": "https://localhost:8080/"
        },
        "outputId": "c2bb840d-e3c0-4f4a-b579-5365e0143aad"
      },
      "execution_count": 60,
      "outputs": [
        {
          "output_type": "stream",
          "name": "stdout",
          "text": [
            "14.0\n",
            "120\n",
            "6\n"
          ]
        }
      ]
    },
    {
      "cell_type": "code",
      "source": [
        "# keyword\n",
        "import keyword\n",
        "print(keyword.kwlist)"
      ],
      "metadata": {
        "id": "FLgAX9pz8HBT",
        "colab": {
          "base_uri": "https://localhost:8080/"
        },
        "outputId": "719d3ba9-94cb-4e69-aa7f-bb1d6e149eda"
      },
      "execution_count": 61,
      "outputs": [
        {
          "output_type": "stream",
          "name": "stdout",
          "text": [
            "['False', 'None', 'True', 'and', 'as', 'assert', 'async', 'await', 'break', 'class', 'continue', 'def', 'del', 'elif', 'else', 'except', 'finally', 'for', 'from', 'global', 'if', 'import', 'in', 'is', 'lambda', 'nonlocal', 'not', 'or', 'pass', 'raise', 'return', 'try', 'while', 'with', 'yield']\n"
          ]
        }
      ]
    },
    {
      "cell_type": "code",
      "source": [
        "# random\n",
        "import random\n",
        "\n",
        "print(random.randint(1,100))"
      ],
      "metadata": {
        "id": "R0dWpe-w8HSZ",
        "colab": {
          "base_uri": "https://localhost:8080/"
        },
        "outputId": "ca513168-0dad-48af-aeca-c4447a40496f"
      },
      "execution_count": 62,
      "outputs": [
        {
          "output_type": "stream",
          "name": "stdout",
          "text": [
            "89\n"
          ]
        }
      ]
    },
    {
      "cell_type": "code",
      "source": [
        "# datetime\n",
        "import datetime\n",
        "print(datetime.datetime.now())"
      ],
      "metadata": {
        "colab": {
          "base_uri": "https://localhost:8080/"
        },
        "id": "XNHWXsM0iFn3",
        "outputId": "aea7425f-de99-4d97-8254-b4ca9ef197a8"
      },
      "execution_count": 63,
      "outputs": [
        {
          "output_type": "stream",
          "name": "stdout",
          "text": [
            "2023-01-05 12:32:52.974799\n"
          ]
        }
      ]
    },
    {
      "cell_type": "markdown",
      "source": [
        "# Loops in Python\n",
        "\n",
        "- Need for loops\n",
        "- While Loop\n",
        "- For Loop"
      ],
      "metadata": {
        "id": "2Ow6_gWG7ukc"
      }
    },
    {
      "cell_type": "code",
      "source": [
        "# While loop example -> program to print the table\n",
        "# Program -> Sum of all digits of a given number\n",
        "# Program -> keep accepting numbers from users till he/she enters a 0 and then find the avg"
      ],
      "metadata": {
        "id": "Ig7NIb7L7txg"
      },
      "execution_count": 64,
      "outputs": []
    },
    {
      "cell_type": "code",
      "source": [
        "user = int(input('Enter the number: '))\n",
        "i = 1\n",
        "while i < 11:\n",
        "  print(user * i)\n",
        "  i += 1 "
      ],
      "metadata": {
        "colab": {
          "base_uri": "https://localhost:8080/"
        },
        "id": "brWSxgiu9rrQ",
        "outputId": "a2c23d09-9e3d-4536-8905-6f533900c44f"
      },
      "execution_count": 65,
      "outputs": [
        {
          "output_type": "stream",
          "name": "stdout",
          "text": [
            "Enter the number: 4\n",
            "4\n",
            "8\n",
            "12\n",
            "16\n",
            "20\n",
            "24\n",
            "28\n",
            "32\n",
            "36\n",
            "40\n"
          ]
        }
      ]
    },
    {
      "cell_type": "code",
      "source": [
        "# while loop with else \n",
        "\n",
        "x = 1\n",
        "\n",
        "while x < 5:\n",
        "  print(x)\n",
        "  x = 1 + x\n",
        "\n",
        "else:\n",
        "  print('limit crossed')"
      ],
      "metadata": {
        "id": "Ltsr9n3H73fp",
        "colab": {
          "base_uri": "https://localhost:8080/"
        },
        "outputId": "c8aa9db4-df2a-4533-e9d6-6048c0b12155"
      },
      "execution_count": 66,
      "outputs": [
        {
          "output_type": "stream",
          "name": "stdout",
          "text": [
            "1\n",
            "2\n",
            "3\n",
            "4\n",
            "limit crossed\n"
          ]
        }
      ]
    },
    {
      "cell_type": "code",
      "source": [
        "from typing_extensions import Counter\n",
        "# Guessing game\n",
        "\n",
        "# generate a random integer between 1 and 100\n",
        "import random\n",
        "jackpot = random.randint(1,100)\n",
        "\n",
        "guess = int(input('Guess karo: '))\n",
        "counter =  1\n",
        "\n",
        "while guess != jackpot:\n",
        "  if guess < jackpot:\n",
        "    print('Wrong, guess higher')\n",
        "  else:\n",
        "    print('Wrong, guess lower')\n",
        "\n",
        "  guess = int(input('Guess karo: '))\n",
        "  counter += 1\n",
        "\n",
        "else:\n",
        "  print('Correct! guess')\n",
        "  print('attempts',counter)"
      ],
      "metadata": {
        "id": "29y5r2cr8MRP",
        "colab": {
          "base_uri": "https://localhost:8080/"
        },
        "outputId": "8ab1a2de-fdef-4b1e-b012-0910d77326ed"
      },
      "execution_count": 67,
      "outputs": [
        {
          "output_type": "stream",
          "name": "stdout",
          "text": [
            "Guess karo: 67\n",
            "Wrong, guess lower\n",
            "Guess karo: 45\n",
            "Wrong, guess lower\n",
            "Guess karo: 34\n",
            "Wrong, guess lower\n",
            "Guess karo: 23\n",
            "Wrong, guess higher\n",
            "Guess karo: 27\n",
            "Wrong, guess higher\n",
            "Guess karo: 31\n",
            "Correct! guess\n",
            "attempts 6\n"
          ]
        }
      ]
    },
    {
      "cell_type": "code",
      "source": [
        "# For loop demo\n",
        "\n",
        "for i in {1,2,3,4,5}:\n",
        "  print(i)"
      ],
      "metadata": {
        "id": "bjjx0fMr8SWh",
        "colab": {
          "base_uri": "https://localhost:8080/"
        },
        "outputId": "2039a91c-7436-4710-cb27-891514f7c760"
      },
      "execution_count": 68,
      "outputs": [
        {
          "output_type": "stream",
          "name": "stdout",
          "text": [
            "1\n",
            "2\n",
            "3\n",
            "4\n",
            "5\n"
          ]
        }
      ]
    },
    {
      "cell_type": "code",
      "source": [
        "for i in range(1,11):\n",
        "  print(i)"
      ],
      "metadata": {
        "colab": {
          "base_uri": "https://localhost:8080/"
        },
        "id": "nH-PjzDVzyD1",
        "outputId": "9da4b2fd-a52c-4b35-9a8b-5e4db0a4c3dc"
      },
      "execution_count": 69,
      "outputs": [
        {
          "output_type": "stream",
          "name": "stdout",
          "text": [
            "1\n",
            "2\n",
            "3\n",
            "4\n",
            "5\n",
            "6\n",
            "7\n",
            "8\n",
            "9\n",
            "10\n"
          ]
        }
      ]
    },
    {
      "cell_type": "code",
      "source": [
        "for i in range(1,11,2):\n",
        "  print(i)"
      ],
      "metadata": {
        "colab": {
          "base_uri": "https://localhost:8080/"
        },
        "id": "xywBmHG10LiP",
        "outputId": "2443863a-4e5d-496a-d214-9c3914d88e76"
      },
      "execution_count": 70,
      "outputs": [
        {
          "output_type": "stream",
          "name": "stdout",
          "text": [
            "1\n",
            "3\n",
            "5\n",
            "7\n",
            "9\n"
          ]
        }
      ]
    },
    {
      "cell_type": "code",
      "source": [
        "for i in range(10,0,-1): # reverse manner\n",
        "  print(i)"
      ],
      "metadata": {
        "colab": {
          "base_uri": "https://localhost:8080/"
        },
        "id": "7Yi46qoY0av3",
        "outputId": "10ea466b-af7e-4722-96c4-6c28ba49f117"
      },
      "execution_count": 71,
      "outputs": [
        {
          "output_type": "stream",
          "name": "stdout",
          "text": [
            "10\n",
            "9\n",
            "8\n",
            "7\n",
            "6\n",
            "5\n",
            "4\n",
            "3\n",
            "2\n",
            "1\n"
          ]
        }
      ]
    },
    {
      "cell_type": "code",
      "source": [
        "# For loop examples\n",
        "\n",
        "for i in 'Delhi':\n",
        "  print(i)"
      ],
      "metadata": {
        "id": "5ZLWEyFn8g1R",
        "colab": {
          "base_uri": "https://localhost:8080/"
        },
        "outputId": "55e71119-d2ac-45d4-be93-526caefed465"
      },
      "execution_count": 72,
      "outputs": [
        {
          "output_type": "stream",
          "name": "stdout",
          "text": [
            "D\n",
            "e\n",
            "l\n",
            "h\n",
            "i\n"
          ]
        }
      ]
    },
    {
      "cell_type": "code",
      "source": [
        "fruit = ['apple','mango','banana','lichi']\n",
        "\n",
        "for i in fruit:\n",
        "  if 'apple' in i:\n",
        "    print('apple is present')\n",
        "  print(i)"
      ],
      "metadata": {
        "colab": {
          "base_uri": "https://localhost:8080/"
        },
        "id": "v1IekugN0t9R",
        "outputId": "743aa987-6b61-4a6e-ff86-9f6540ed7e5b"
      },
      "execution_count": 73,
      "outputs": [
        {
          "output_type": "stream",
          "name": "stdout",
          "text": [
            "apple is present\n",
            "apple\n",
            "mango\n",
            "banana\n",
            "lichi\n"
          ]
        }
      ]
    },
    {
      "cell_type": "markdown",
      "source": [
        "### Program - The current population of a town is 10000. The population of the town is increasing at the rate of 10% per year. You have to write a program to find out the population at the end of each of the last 10 years."
      ],
      "metadata": {
        "id": "EXnzCtohWx2V"
      }
    },
    {
      "cell_type": "code",
      "source": [
        "curr_pop = 10000\n",
        "\n",
        "for i in range(10,0,-1):\n",
        "  print(i,curr_pop)\n",
        "  curr_pop = curr_pop /1.1\n"
      ],
      "metadata": {
        "id": "Nc_6lslRW03g",
        "colab": {
          "base_uri": "https://localhost:8080/"
        },
        "outputId": "cb09aae4-71f5-4411-a92e-40f657ec4933"
      },
      "execution_count": 74,
      "outputs": [
        {
          "output_type": "stream",
          "name": "stdout",
          "text": [
            "10 10000\n",
            "9 9090.90909090909\n",
            "8 8264.462809917353\n",
            "7 7513.148009015775\n",
            "6 6830.134553650703\n",
            "5 6209.213230591548\n",
            "4 5644.739300537771\n",
            "3 5131.5811823070635\n",
            "2 4665.07380209733\n",
            "1 4240.976183724845\n"
          ]
        }
      ]
    },
    {
      "cell_type": "code",
      "source": [],
      "metadata": {
        "id": "mz8E2b-d7JHA"
      },
      "execution_count": null,
      "outputs": []
    }
  ]
}