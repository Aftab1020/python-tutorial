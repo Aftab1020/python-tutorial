{
  "nbformat": 4,
  "nbformat_minor": 0,
  "metadata": {
    "colab": {
      "provenance": []
    },
    "kernelspec": {
      "name": "python3",
      "display_name": "Python 3"
    },
    "language_info": {
      "name": "python"
    }
  },
  "cells": [
    {
      "cell_type": "markdown",
      "source": [
        "# Operators in Python\n",
        "\n",
        "- Arithmetic Operators\n",
        "- Relational Operators\n",
        "- Logical Operators\n",
        "- Bitwise Operators\n",
        "- Assignment Operators\n",
        "- Membership Operators"
      ],
      "metadata": {
        "id": "y1HMD4oI7FL7"
      }
    },
    {
      "cell_type": "code",
      "source": [
        "# Arithmetric Operators\n",
        "\n",
        "print('Addition', 5+6)\n",
        "\n",
        "print('subtraaction', 5-6)\n",
        "\n",
        "print('Multiplication', 5*6)\n",
        "\n",
        "print('Division', 5/2)\n",
        "\n",
        "print(5//2) # IT convert normal division to integer\n",
        "\n",
        "print('It tells remainder',5%2) #Moduls\n",
        "\n",
        "print('Power', 5**2) # It gives you power of"
      ],
      "metadata": {
        "id": "a7cegk-f7U4-",
        "colab": {
          "base_uri": "https://localhost:8080/"
        },
        "outputId": "8c87775a-c5e1-44c2-f2df-fabc0bf930da"
      },
      "execution_count": 1,
      "outputs": [
        {
          "output_type": "stream",
          "name": "stdout",
          "text": [
            "Addition 11\n",
            "subtraaction -1\n",
            "Multiplication 30\n",
            "Division 2.5\n",
            "2\n",
            "It tells remainder 1\n",
            "Power 25\n"
          ]
        }
      ]
    },
    {
      "cell_type": "code",
      "source": [
        "# Relational Operators\n",
        "print(4>5) # greater > smaller\n",
        "\n",
        "print(4<5) # smaller < greater\n",
        "\n",
        "print(4>=4) # greater than equal to\n",
        "\n",
        "print(4<=4) # smaller than equal  to\n",
        "\n",
        "print(4==4) # Equal to equal to\n",
        "\n",
        "print(4!=4) # Not Equal to"
      ],
      "metadata": {
        "id": "TMIQKhFd7Y5A",
        "colab": {
          "base_uri": "https://localhost:8080/"
        },
        "outputId": "05d3b2bf-4860-434a-e2d3-760221dc116c"
      },
      "execution_count": 2,
      "outputs": [
        {
          "output_type": "stream",
          "name": "stdout",
          "text": [
            "False\n",
            "True\n",
            "True\n",
            "True\n",
            "True\n",
            "False\n"
          ]
        }
      ]
    },
    {
      "cell_type": "code",
      "source": [
        "# Logical Operators\n",
        "print(1 and 0) #It gives True when both are True\n",
        "\n",
        "print(1 or 0) # it give True when one of the condition true\n",
        "\n",
        "print(not 1) # It gives opposite answer"
      ],
      "metadata": {
        "id": "vyxdjDbc7avq",
        "colab": {
          "base_uri": "https://localhost:8080/"
        },
        "outputId": "951b4950-c342-485a-ad4a-cf7e9d6df28e"
      },
      "execution_count": 3,
      "outputs": [
        {
          "output_type": "stream",
          "name": "stdout",
          "text": [
            "0\n",
            "1\n",
            "False\n"
          ]
        }
      ]
    },
    {
      "cell_type": "code",
      "source": [
        "# Bitwise Operators\n",
        "\n",
        "# bitwise and operator\n",
        "print(2 & 3)\n",
        "\n",
        "# bitwise or operator\n",
        "print(2 | 3)\n",
        "\n",
        "# bitwise xor\n",
        "print(2 ^ 3)\n",
        "\n",
        "# bitwise not operator\n",
        "print(~3)\n",
        "\n",
        "# bitwise left operator\n",
        "print(4 >> 2)\n",
        "\n",
        "# bitwise right opearator\n",
        "print(5 << 2)"
      ],
      "metadata": {
        "id": "H4KzpSke7d9l",
        "colab": {
          "base_uri": "https://localhost:8080/"
        },
        "outputId": "3a46ba83-290f-4c23-fd1c-23831ee625be"
      },
      "execution_count": 4,
      "outputs": [
        {
          "output_type": "stream",
          "name": "stdout",
          "text": [
            "2\n",
            "3\n",
            "1\n",
            "-4\n",
            "1\n",
            "20\n"
          ]
        }
      ]
    },
    {
      "cell_type": "code",
      "source": [
        "# Assignment Operators\n",
        "\n",
        "#addition\n",
        "a = 3\n",
        "a = a + 3\n",
        "print(a)\n",
        "\n",
        "#subtraction\n",
        "b = 2\n",
        "b = b - 1\n",
        "print(b)\n",
        "\n",
        "#multilpication\n",
        "c = 4\n",
        "c = c * 2\n",
        "print(c)\n",
        "\n",
        "#division\n",
        "d = 4\n",
        "d = d/2\n",
        "print(d)\n"
      ],
      "metadata": {
        "id": "8EEm8eHO7gD_",
        "colab": {
          "base_uri": "https://localhost:8080/"
        },
        "outputId": "97fef35e-a433-411b-efa3-771b73a7edec"
      },
      "execution_count": 5,
      "outputs": [
        {
          "output_type": "stream",
          "name": "stdout",
          "text": [
            "6\n",
            "1\n",
            "8\n",
            "2.0\n"
          ]
        }
      ]
    },
    {
      "cell_type": "code",
      "source": [
        "# Membership Operators\n",
        "\n",
        "# in/not in\n",
        "\n",
        "print('D'  in 'Delhi')\n",
        "print('M' not in 'Mumbai')\n",
        "print('Mahad' in ['Delhi','Agra','Pune','Goa','Mahad'])\n",
        "print(1 not in [2,3,4,5,6])\n",
        "print(2.4 in [1,5,3,7,8,2])"
      ],
      "metadata": {
        "id": "LzrIz7I87h-W",
        "colab": {
          "base_uri": "https://localhost:8080/"
        },
        "outputId": "c57d76eb-7822-4687-848e-d55fe80b2d1a"
      },
      "execution_count": 6,
      "outputs": [
        {
          "output_type": "stream",
          "name": "stdout",
          "text": [
            "True\n",
            "False\n",
            "True\n",
            "True\n",
            "False\n"
          ]
        }
      ]
    },
    {
      "cell_type": "code",
      "source": [
        "# Program - Find the sum of a 3 digit number entered by the user\n",
        "\n",
        "number = int(input('Enter a 3 digit number'))\n",
        "# 789%10 ->9\n",
        "a = number%10\n",
        "number = number//10\n",
        "\n",
        "#78%10 -> 8\n",
        "b = number%10\n",
        "number = number//10\n",
        "\n",
        "#7%10 -> 7\n",
        "c = number%10\n",
        "number = number//10\n",
        "\n",
        "print(a + b + c)"
      ],
      "metadata": {
        "id": "C-LoVrYGDEuB",
        "colab": {
          "base_uri": "https://localhost:8080/"
        },
        "outputId": "d7e20ab9-97be-4599-ce2e-f20d412afba0"
      },
      "execution_count": 7,
      "outputs": [
        {
          "output_type": "stream",
          "name": "stdout",
          "text": [
            "Enter a 3 digit number789\n",
            "24\n"
          ]
        }
      ]
    },
    {
      "cell_type": "markdown",
      "source": [
        "# If-else in Python"
      ],
      "metadata": {
        "id": "Iq7CzVFs7mWT"
      }
    },
    {
      "cell_type": "code",
      "source": [
        "# login program and indentation\n",
        "# email -> aftab23@gmail.com\n",
        "# password -> 1234\n",
        "\n",
        "email = input('Enter email: ')\n",
        "password = input('Enter the password: ')\n",
        "\n",
        "if email == 'aftab23@gmail.com' and password == '1234':\n",
        "  print('Welcome')\n",
        "\n",
        "elif email != 'aftab23@gmail.com' and password == '1234':\n",
        "  print('email is wrong')\n",
        "  email = input('Enter email again: ')\n",
        "  if email == 'aftab23@gmail.com':\n",
        "    print('Email is correct')\n",
        "  else:\n",
        "    print('You have to remember the email')\n",
        "\n",
        "elif email == 'aftab23@gmail.com' and password != '1234':\n",
        "  print('Password is wrong')\n",
        "  password = input('Enter password again')\n",
        "  if password == '1234':\n",
        "    print('password is correct')\n",
        "  else:\n",
        "    print('You have to remember the password')\n",
        "\n",
        "else:\n",
        "  print('Not correct')"
      ],
      "metadata": {
        "id": "dGz-83pN7oxe",
        "colab": {
          "base_uri": "https://localhost:8080/"
        },
        "outputId": "04fde08c-758f-47c5-b38c-fb24cfbfd04b"
      },
      "execution_count": 8,
      "outputs": [
        {
          "output_type": "stream",
          "name": "stdout",
          "text": [
            "Enter email: aftab23@gmail.com\n",
            "Enter the password: 1234\n",
            "Welcome\n"
          ]
        }
      ]
    },
    {
      "cell_type": "code",
      "source": [
        "# if-else examples\n",
        "# 1. Find the min of 3 given numbers\n",
        "# 2. Menu Driven Program"
      ],
      "metadata": {
        "id": "qo_1tY2ABlAX"
      },
      "execution_count": 9,
      "outputs": []
    },
    {
      "cell_type": "code",
      "source": [
        "# min of 3 number\n",
        "\n",
        "a = int(input('Enter the number: '))\n",
        "b = int(input('Enter the number: '))\n",
        "c = int(input('Enter the number: '))\n",
        "\n",
        "if a < b  and a < c:\n",
        "  print('smallest number is', {a})\n",
        "elif b < c:\n",
        "  print('smallest number is', {b})\n",
        "else:\n",
        "  print('smallest is' ,{c})"
      ],
      "metadata": {
        "colab": {
          "base_uri": "https://localhost:8080/"
        },
        "id": "gQpTJbMH3W6_",
        "outputId": "83032267-7408-42e1-f4ee-93a3ad67a54c"
      },
      "execution_count": 10,
      "outputs": [
        {
          "output_type": "stream",
          "name": "stdout",
          "text": [
            "Enter the number: 8\n",
            "Enter the number: 34\n",
            "Enter the number: 31\n",
            "smallest number is {8}\n"
          ]
        }
      ]
    },
    {
      "cell_type": "code",
      "source": [
        "from pathlib import PureWindowsPath\n",
        "# menu driven calculator\n",
        "fnum = int(input('Enter the number: '))\n",
        "snum = int(input('Enter the number: '))\n",
        "\n",
        "operation = input('Enter the operation: ')\n",
        "\n",
        "if operation == '+':\n",
        "  print(fnum + snum)\n",
        "elif operation == '-':\n",
        "  print(fnum - snum)\n",
        "elif operation == '*':\n",
        "  print(fnum * snum)\n",
        "elif operation == '/':\n",
        "  print(fnum / snum)\n",
        "else:\n",
        "  print('Nothing')"
      ],
      "metadata": {
        "colab": {
          "base_uri": "https://localhost:8080/"
        },
        "id": "hgNqlC5C4jqF",
        "outputId": "e9daede4-dd6a-4bb8-aae7-e3acafc65976"
      },
      "execution_count": 11,
      "outputs": [
        {
          "output_type": "stream",
          "name": "stdout",
          "text": [
            "Enter the number: 20\n",
            "Enter the number: 34\n",
            "Enter the operation: -\n",
            "-14\n"
          ]
        }
      ]
    },
    {
      "cell_type": "code",
      "source": [
        "#  Atm menu\n",
        "\n",
        "menu = input(\"\"\"\n",
        "Hi, How can I help you.\n",
        "1. Enter 1 for type your pin\n",
        "2. Enter 2 for withdrawl\n",
        "3. Enter 3 for balance check\n",
        "4. Enter 4 for change pin\n",
        "\"\"\")\n",
        "\n",
        "if menu == '1':\n",
        "  print('Type your pin')\n",
        "elif menu == '2':\n",
        "  print('Withdraw your money')\n",
        "elif menu == '3':\n",
        "  print('Check your balance')\n",
        "elif menu == '4':\n",
        "  print('change your pin')\n",
        "else:\n",
        "  print('Exit')"
      ],
      "metadata": {
        "colab": {
          "base_uri": "https://localhost:8080/"
        },
        "id": "bJO0Awd4DKI5",
        "outputId": "071edd3e-05cc-486e-8374-1765d50c860d"
      },
      "execution_count": 12,
      "outputs": [
        {
          "output_type": "stream",
          "name": "stdout",
          "text": [
            "\n",
            "Hi, How can I help you.\n",
            "1. Enter 1 for type your pin\n",
            "2. Enter 2 for withdrawl\n",
            "3. Enter 3 for balance check\n",
            "4. Enter 4 for change pin\n",
            "1\n",
            "Type your pin\n"
          ]
        }
      ]
    },
    {
      "cell_type": "markdown",
      "source": [
        "# Modules in Python\n",
        "\n",
        "- math\n",
        "- keywords\n",
        "- random\n",
        "- datetime"
      ],
      "metadata": {
        "id": "532_6mva8A6C"
      }
    },
    {
      "cell_type": "code",
      "source": [
        "# math\n",
        "import math\n",
        "\n",
        "print(math.sqrt(196)) # to get square root\n",
        "print(math.factorial(5)) # to get factorail\n",
        "print(math.floor(6.7))"
      ],
      "metadata": {
        "id": "x5VXt7wv8G4o",
        "colab": {
          "base_uri": "https://localhost:8080/"
        },
        "outputId": "7239b505-3d98-4c92-e04f-476956469a01"
      },
      "execution_count": 13,
      "outputs": [
        {
          "output_type": "stream",
          "name": "stdout",
          "text": [
            "14.0\n",
            "120\n",
            "6\n"
          ]
        }
      ]
    },
    {
      "cell_type": "code",
      "source": [
        "# keyword\n",
        "import keyword\n",
        "print(keyword.kwlist)"
      ],
      "metadata": {
        "id": "FLgAX9pz8HBT",
        "colab": {
          "base_uri": "https://localhost:8080/"
        },
        "outputId": "0c5901dd-2cf9-4b1b-f3e3-ebe8c298756b"
      },
      "execution_count": 14,
      "outputs": [
        {
          "output_type": "stream",
          "name": "stdout",
          "text": [
            "['False', 'None', 'True', 'and', 'as', 'assert', 'async', 'await', 'break', 'class', 'continue', 'def', 'del', 'elif', 'else', 'except', 'finally', 'for', 'from', 'global', 'if', 'import', 'in', 'is', 'lambda', 'nonlocal', 'not', 'or', 'pass', 'raise', 'return', 'try', 'while', 'with', 'yield']\n"
          ]
        }
      ]
    },
    {
      "cell_type": "code",
      "source": [
        "# random\n",
        "import random\n",
        "\n",
        "print(random.randint(1,100))"
      ],
      "metadata": {
        "id": "R0dWpe-w8HSZ",
        "colab": {
          "base_uri": "https://localhost:8080/"
        },
        "outputId": "492a5db4-bbdb-431f-de91-f54e13266e30"
      },
      "execution_count": 15,
      "outputs": [
        {
          "output_type": "stream",
          "name": "stdout",
          "text": [
            "82\n"
          ]
        }
      ]
    },
    {
      "cell_type": "code",
      "source": [
        "# datetime\n",
        "import datetime\n",
        "print(datetime.datetime.now())"
      ],
      "metadata": {
        "colab": {
          "base_uri": "https://localhost:8080/"
        },
        "id": "XNHWXsM0iFn3",
        "outputId": "49a03529-6ae8-4bdb-aaf9-c035bc7a4de3"
      },
      "execution_count": 16,
      "outputs": [
        {
          "output_type": "stream",
          "name": "stdout",
          "text": [
            "2023-01-05 11:42:27.179019\n"
          ]
        }
      ]
    },
    {
      "cell_type": "markdown",
      "source": [
        "# Loops in Python\n",
        "\n",
        "- Need for loops\n",
        "- While Loop\n",
        "- For Loop"
      ],
      "metadata": {
        "id": "2Ow6_gWG7ukc"
      }
    },
    {
      "cell_type": "code",
      "source": [
        "# While loop example -> program to print the table\n",
        "# Program -> Sum of all digits of a given number\n",
        "# Program -> keep accepting numbers from users till he/she enters a 0 and then find the avg"
      ],
      "metadata": {
        "id": "Ig7NIb7L7txg"
      },
      "execution_count": 17,
      "outputs": []
    },
    {
      "cell_type": "code",
      "source": [
        "user = int(input('Enter the number: '))\n",
        "i = 1\n",
        "while i < 11:\n",
        "  print(user * i)\n",
        "  i += 1 "
      ],
      "metadata": {
        "colab": {
          "base_uri": "https://localhost:8080/"
        },
        "id": "brWSxgiu9rrQ",
        "outputId": "898a18ec-e9e7-46e9-c79b-ab446fa5ea61"
      },
      "execution_count": 18,
      "outputs": [
        {
          "output_type": "stream",
          "name": "stdout",
          "text": [
            "Enter the number: 2\n",
            "2\n",
            "4\n",
            "6\n",
            "8\n",
            "10\n",
            "12\n",
            "14\n",
            "16\n",
            "18\n",
            "20\n"
          ]
        }
      ]
    },
    {
      "cell_type": "code",
      "source": [
        "# while loop with else \n",
        "\n",
        "x = 1\n",
        "\n",
        "while x < 5:\n",
        "  print(x)\n",
        "  x = 1 + x\n",
        "\n",
        "else:\n",
        "  print('limit crossed')"
      ],
      "metadata": {
        "id": "Ltsr9n3H73fp",
        "colab": {
          "base_uri": "https://localhost:8080/"
        },
        "outputId": "90cd99e3-d85f-43a1-df64-cf55419f5121"
      },
      "execution_count": 23,
      "outputs": [
        {
          "output_type": "stream",
          "name": "stdout",
          "text": [
            "1\n",
            "2\n",
            "3\n",
            "4\n",
            "limit crossed\n"
          ]
        }
      ]
    },
    {
      "cell_type": "code",
      "source": [
        "from typing_extensions import Counter\n",
        "# Guessing game\n",
        "\n",
        "# generate a random integer between 1 and 100\n",
        "import random\n",
        "jackpot = random.randint(1,100)\n",
        "\n",
        "guess = int(input('Guess karo: '))\n",
        "counter =  1\n",
        "\n",
        "while guess != jackpot:\n",
        "  if guess < jackpot:\n",
        "    print('Wrong, guess higher')\n",
        "  else:\n",
        "    print('Wrong, guess lower')\n",
        "\n",
        "  guess = int(input('Guess karo: '))\n",
        "  counter += 1\n",
        "\n",
        "else:\n",
        "  print('Correct! guess')\n",
        "  print('attempts',counter)"
      ],
      "metadata": {
        "id": "29y5r2cr8MRP",
        "colab": {
          "base_uri": "https://localhost:8080/"
        },
        "outputId": "c429aee0-8e04-4563-9bcc-3b67df46e9b4"
      },
      "execution_count": 28,
      "outputs": [
        {
          "output_type": "stream",
          "name": "stdout",
          "text": [
            "Guess karo: 12\n",
            "Wrong, guess higher\n",
            "Guess karo: 45\n",
            "Wrong, guess higher\n",
            "Guess karo: 67\n",
            "Wrong, guess higher\n",
            "Guess karo: 87\n",
            "Wrong, guess lower\n",
            "Guess karo: 77\n",
            "Wrong, guess lower\n",
            "Guess karo: 70\n",
            "Wrong, guess lower\n",
            "Guess karo: 68\n",
            "Wrong, guess higher\n",
            "Guess karo: 69\n",
            "Correct! guess\n",
            "attempts 8\n"
          ]
        }
      ]
    },
    {
      "cell_type": "code",
      "source": [
        "# For loop demo\n",
        "\n",
        "for i in {1,2,3,4,5}:\n",
        "  print(i)"
      ],
      "metadata": {
        "id": "bjjx0fMr8SWh",
        "colab": {
          "base_uri": "https://localhost:8080/"
        },
        "outputId": "292e79a5-601d-4651-d386-8931cf771e27"
      },
      "execution_count": 29,
      "outputs": [
        {
          "output_type": "stream",
          "name": "stdout",
          "text": [
            "1\n",
            "2\n",
            "3\n",
            "4\n",
            "5\n"
          ]
        }
      ]
    },
    {
      "cell_type": "code",
      "source": [
        "for i in range(1,11):\n",
        "  print(i)"
      ],
      "metadata": {
        "colab": {
          "base_uri": "https://localhost:8080/"
        },
        "id": "nH-PjzDVzyD1",
        "outputId": "12ae9b54-2972-4e87-ffa0-69612061b543"
      },
      "execution_count": 30,
      "outputs": [
        {
          "output_type": "stream",
          "name": "stdout",
          "text": [
            "1\n",
            "2\n",
            "3\n",
            "4\n",
            "5\n",
            "6\n",
            "7\n",
            "8\n",
            "9\n",
            "10\n"
          ]
        }
      ]
    },
    {
      "cell_type": "code",
      "source": [
        "for i in range(1,11,2):\n",
        "  print(i)"
      ],
      "metadata": {
        "colab": {
          "base_uri": "https://localhost:8080/"
        },
        "id": "xywBmHG10LiP",
        "outputId": "80923581-10b2-4b60-d4b1-752355cdeb1f"
      },
      "execution_count": 31,
      "outputs": [
        {
          "output_type": "stream",
          "name": "stdout",
          "text": [
            "1\n",
            "3\n",
            "5\n",
            "7\n",
            "9\n"
          ]
        }
      ]
    },
    {
      "cell_type": "code",
      "source": [
        "for i in range(10,0,-1): # reverse manner\n",
        "  print(i)"
      ],
      "metadata": {
        "colab": {
          "base_uri": "https://localhost:8080/"
        },
        "id": "7Yi46qoY0av3",
        "outputId": "b88e85c7-f510-41cc-aa5b-bf8b98004143"
      },
      "execution_count": 33,
      "outputs": [
        {
          "output_type": "stream",
          "name": "stdout",
          "text": [
            "10\n",
            "9\n",
            "8\n",
            "7\n",
            "6\n",
            "5\n",
            "4\n",
            "3\n",
            "2\n",
            "1\n"
          ]
        }
      ]
    },
    {
      "cell_type": "code",
      "source": [
        "# For loop examples\n",
        "\n",
        "for i in 'Delhi':\n",
        "  print(i)"
      ],
      "metadata": {
        "id": "5ZLWEyFn8g1R",
        "colab": {
          "base_uri": "https://localhost:8080/"
        },
        "outputId": "b9b03ce4-4b9c-47aa-ba39-a79962dba035"
      },
      "execution_count": 34,
      "outputs": [
        {
          "output_type": "stream",
          "name": "stdout",
          "text": [
            "D\n",
            "e\n",
            "l\n",
            "h\n",
            "i\n"
          ]
        }
      ]
    },
    {
      "cell_type": "code",
      "source": [
        "fruit = ['apple','mango','banana','lichi']\n",
        "\n",
        "for i in fruit:\n",
        "  if 'apple' in i:\n",
        "    print('apple is present')\n",
        "  print(i)"
      ],
      "metadata": {
        "colab": {
          "base_uri": "https://localhost:8080/"
        },
        "id": "v1IekugN0t9R",
        "outputId": "809b5838-4dda-42d0-8dd3-d742ee49fe76"
      },
      "execution_count": 43,
      "outputs": [
        {
          "output_type": "stream",
          "name": "stdout",
          "text": [
            "apple is present\n",
            "apple\n",
            "mango\n",
            "banana\n",
            "lichi\n"
          ]
        }
      ]
    },
    {
      "cell_type": "markdown",
      "source": [
        "### Program - The current population of a town is 10000. The population of the town is increasing at the rate of 10% per year. You have to write a program to find out the population at the end of each of the last 10 years."
      ],
      "metadata": {
        "id": "EXnzCtohWx2V"
      }
    },
    {
      "cell_type": "code",
      "source": [
        "curr_pop = 10000\n",
        "\n",
        "for i in range(10,0,-1):\n",
        "  print(i,curr_pop)\n",
        "  curr_pop = curr_pop -  0.1*curr_pop\n"
      ],
      "metadata": {
        "id": "Nc_6lslRW03g",
        "colab": {
          "base_uri": "https://localhost:8080/"
        },
        "outputId": "1510bc1b-f157-4d27-e056-ecb16fb2530b"
      },
      "execution_count": 47,
      "outputs": [
        {
          "output_type": "stream",
          "name": "stdout",
          "text": [
            "10 10000\n",
            "9 9000.0\n",
            "8 8100.0\n",
            "7 7290.0\n",
            "6 6561.0\n",
            "5 5904.9\n",
            "4 5314.41\n",
            "3 4782.969\n",
            "2 4304.6721\n",
            "1 3874.20489\n"
          ]
        }
      ]
    }
  ]
}